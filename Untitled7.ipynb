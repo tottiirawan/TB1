{
 "cells": [
  {
   "cell_type": "code",
   "execution_count": 2,
   "id": "712f4694-0b4a-4a8b-9d5b-ad98f1eef1b8",
   "metadata": {},
   "outputs": [
    {
     "name": "stdout",
     "output_type": "stream",
     "text": [
      "This is Matrix#%!\n"
     ]
    }
   ],
   "source": [
    "import re\n",
    "\n",
    "\n",
    "with open('tes.txt', 'r') as file:\n",
    "\n",
    "    ukuran_input_pertama = file.readline().rstrip().split()\n",
    "    n = int(ukuran_input_pertama[0])\n",
    "    m = int(ukuran_input_pertama[1])\n",
    "\n",
    "\n",
    "    matriks = []\n",
    "    for _ in range(n):\n",
    "        item_matriks = file.readline().rstrip()\n",
    "        matriks.append(item_matriks)\n",
    "\n",
    "\n",
    "hasil_dekode = \"\"\n",
    "\n",
    "\n",
    "for i in range(m):\n",
    "    for j in range(n):\n",
    "        try:\n",
    "            hasil_dekode += matriks[j][i]\n",
    "        except IndexError:\n",
    "            pass\n",
    "\n",
    "\n",
    "pola = r'(?<=[\\w])[^\\w]+(?=[\\w])'\n",
    "\n",
    "\n",
    "cocokan = re.findall(pola, hasil_dekode)\n",
    "\n",
    "\n",
    "for x in cocokan:\n",
    "    hasil_dekode = hasil_dekode.replace(x, ' ', 1)\n",
    "\n",
    "\n",
    "print(hasil_dekode)"
   ]
  }
 ],
 "metadata": {
  "kernelspec": {
   "display_name": "Python 3 (ipykernel)",
   "language": "python",
   "name": "python3"
  },
  "language_info": {
   "codemirror_mode": {
    "name": "ipython",
    "version": 3
   },
   "file_extension": ".py",
   "mimetype": "text/x-python",
   "name": "python",
   "nbconvert_exporter": "python",
   "pygments_lexer": "ipython3",
   "version": "3.8.0"
  }
 },
 "nbformat": 4,
 "nbformat_minor": 5
}
